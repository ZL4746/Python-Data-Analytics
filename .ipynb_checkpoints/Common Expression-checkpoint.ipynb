{
 "cells": [
  {
   "cell_type": "code",
   "execution_count": 1,
   "metadata": {
    "collapsed": true
   },
   "outputs": [],
   "source": [
    "import re  # This is the regular expressions module. We must import this first."
   ]
  },
  {
   "cell_type": "markdown",
   "metadata": {},
   "source": [
    "## Find string that contains number character\n",
    "### a_output_list_of_str(Number) = re.findal ('[0-9]', InputString)\n"
   ]
  },
  {
   "cell_type": "code",
   "execution_count": 5,
   "metadata": {
    "collapsed": false
   },
   "outputs": [
    {
     "name": "stdout",
     "output_type": "stream",
     "text": [
      "We have the following string list:  ['no numbers', 'That costs $2,000!', 'Beverly Hills 90210']\n",
      "And we will use re.refindal to find string that contains numbers\n",
      "Result: \n",
      "\n",
      "    No matches in the string \"no numbers\"\n",
      "\n",
      "    The matches in the string \"That costs $2,000!\" are: ['2', '0', '0', '0']\n",
      "\n",
      "    The matches in the string \"Beverly Hills 90210\" are: ['9', '0', '2', '1', '0']\n",
      "\n"
     ]
    }
   ],
   "source": [
    "string_list = ['no numbers', 'That costs $2,000!', 'Beverly Hills 90210']\n",
    "\n",
    "print \"We have the following string list: \", string_list\n",
    "print \"And we will use re.refindal to find string that contains numbers\"\n",
    "print \"Result: \"\n",
    "print\n",
    "\n",
    "# Find strings that contain numbers\n",
    "for a_string in string_list:\n",
    "    \n",
    "    matches = re.findall('[0-9]', a_string)\n",
    "    \n",
    "    if len(matches) > 0:\n",
    "        print '    The matches in the string \"'+ a_string + '\" are:', matches\n",
    "        print\n",
    "        \n",
    "    else:\n",
    "        print '    No matches in the string \"' + a_string + '\"'\n",
    "        print"
   ]
  },
  {
   "cell_type": "markdown",
   "metadata": {},
   "source": [
    "##### The basic approach to regular expressions is that you give\n",
    "\n",
    "* a searcher (here, _re.findall()_)\n",
    "* a pattern (here, _'[0-9]'_)\n",
    "* and a string in which to search (here, _one_string_).\n",
    "\n",
    "##### In this case:\n",
    "\n",
    "* The pattern _'[0-9]'_ means: any character between '0' and '9', i.e., any one of '0', '1', '2', ..., '9'\n",
    "* The searcher _re.findall()_ tries to find all match of the pattern to the string (_one\\_string_). \n",
    "\n",
    "### The re module has many other specialized searchers.\n",
    "\n",
    "\n",
    "##### Let's look a bit more at some commonly used patterns.\n",
    "\n",
    "> **[...]**\n",
    "* means match any character within the square brackets\n",
    "\n",
    "> **[^...]** \n",
    "* means match anything _except_ the characters within the brackets\n",
    "\n",
    "> **[abcd]**\n",
    "* means match any **one** of 'a', 'b', 'c', or 'd'\n",
    "\n",
    "> **[a-z]**\n",
    "* means match anything lower-case character\n",
    "\n",
    "> **[a-zA-Z]**\n",
    "* means match any lower-case or upper-case character\n",
    "\n",
    "> **[0-9]**\n",
    "* means any number\n",
    "\n",
    "\n",
    "> **.**  **(the \"full stop\" sign)**\n",
    "* means match any one character, whatever it is (this is called a _wild card_)\n",
    "\n",
    "> **\\\\.**\n",
    "* means match the full-stop character\n",
    "\n",
    "> **There are several useful shorthands as well:**\n",
    "* **\\\\w** is shorthand for [a-zA-Z0-9\\_]\n",
    "* **\\\\d** is shorthand for [0-9]\n",
    "* **\\\\s** is shorthand for a space or a tab, often used as delimiter\n",
    "\n"
   ]
  },
  {
   "cell_type": "code",
   "execution_count": 6,
   "metadata": {
    "collapsed": false
   },
   "outputs": [
    {
     "name": "stdout",
     "output_type": "stream",
     "text": [
      "[' 512-232-1234 ', ' 888.291.2135 ']\n"
     ]
    }
   ],
   "source": [
    "def find_phone_number(a_string):\n",
    "    \"\"\"Given a string, find a phone number in it. Consider only two forms: 123.456.7890 or 123-456-7890\"\"\"\n",
    "    print re.findall('\\s\\d\\d\\d[\\.-]\\d\\d\\d[\\.-]\\d\\d\\d\\d\\s', a_string)\n",
    "    \n",
    "find_phone_number(' Call me at 512-232-1234 or 888.291.2135 ASAP')"
   ]
  },
  {
   "cell_type": "code",
   "execution_count": 7,
   "metadata": {
    "collapsed": true
   },
   "outputs": [],
   "source": [
    "blatantly_false_string = \"\"\"\n",
    "I'm gonna have the MOST followers! More tha @BarackObama, bigger\n",
    "that @katyperry, gonna top @taylorswift13, snuff out @Harry_Styles,\n",
    "and all you punks out there! That's right, contact me at \n",
    "bigdaddy@utexas.edu while I set up my account.\n",
    "\"\"\""
   ]
  },
  {
   "cell_type": "code",
   "execution_count": 8,
   "metadata": {
    "collapsed": false
   },
   "outputs": [
    {
     "name": "stdout",
     "output_type": "stream",
     "text": [
      "['@BarackObama', '@katyperry', '@taylorswift13', '@Harry_Styles', '@utexas']\n"
     ]
    }
   ],
   "source": [
    "def find_twitter_handles(a_string):\n",
    "    \n",
    "    ### use of the \"+\" sign to repeat the character ###\n",
    "    print re.findall('@[a-zA-Z0-9_]+', a_string)\n",
    "    \n",
    "find_twitter_handles(blatantly_false_string)"
   ]
  },
  {
   "cell_type": "code",
   "execution_count": 11,
   "metadata": {
    "collapsed": false
   },
   "outputs": [
    {
     "name": "stdout",
     "output_type": "stream",
     "text": [
      "[' @BarackObama', ' @katyperry', ' @taylorswift13', ' @Harry_Styles']\n"
     ]
    }
   ],
   "source": [
    "def find_twitter_handles_2(a_string):\n",
    "    # \\s refer to space\n",
    "    print re.findall('\\s@[a-zA-Z0-9_]+', a_string)\n",
    "\n",
    "find_twitter_handles_2(blatantly_false_string)"
   ]
  },
  {
   "cell_type": "code",
   "execution_count": 12,
   "metadata": {
    "collapsed": false
   },
   "outputs": [
    {
     "name": "stdout",
     "output_type": "stream",
     "text": [
      "['csev@umich.edu', 'cwen@iupui.edu']\n"
     ]
    }
   ],
   "source": [
    "def find_emails(a_string):\n",
    "    \n",
    "    # [^@\\s]+ anything except @ and space\n",
    "    # \\s refer to space\n",
    "    print re.findall('[^@\\s]+@[^@\\s]+', a_string)\n",
    "\n",
    "find_emails('Hello from csev@umich.edu to cwen@iupui.edu about the meeting @2PM')"
   ]
  },
  {
   "cell_type": "code",
   "execution_count": 13,
   "metadata": {
    "collapsed": false
   },
   "outputs": [
    {
     "name": "stdout",
     "output_type": "stream",
     "text": [
      "['stephen.marquard@uct.ac.za', '<postmaster@collab.sakaiproject.org>', '<source@collab.sakaiproject.org>;', 'apache@localhost)', 'stephen.marquard@uct.ac.za']\n"
     ]
    }
   ],
   "source": [
    "# More complicated setup: extract emails from email headers.\n",
    "header_string = \"\"\"\n",
    "From stephen.marquard@uct.ac.za Sat Jan  5 09:14:16 2008\n",
    "Return-Path: <postmaster@collab.sakaiproject.org>\n",
    "          for <source@collab.sakaiproject.org>;\n",
    "Received: (from apache@localhost)\n",
    "Author: stephen.marquard@uct.ac.za\n",
    "\"\"\"\n",
    "\n",
    "find_emails(header_string)"
   ]
  },
  {
   "cell_type": "code",
   "execution_count": 14,
   "metadata": {
    "collapsed": false
   },
   "outputs": [
    {
     "name": "stdout",
     "output_type": "stream",
     "text": [
      "['csev@umich.edu', 'cwen@iupui.edu']\n",
      "['stephen.marquard@uct.ac.za', 'postmaster@collab.sakaiproject.org', 'source@collab.sakaiproject.org', 'apache@localhost', 'stephen.marquard@uct.ac.za']\n"
     ]
    }
   ],
   "source": [
    "def find_emails_2(a_string):\n",
    "    \n",
    "    ### \"*\" represent 0 or more character\n",
    "    print re.findall('[a-zA-Z][a-zA-Z\\.]*@[a-zA-Z\\.]*[a-zA-Z]', a_string)\n",
    "    \n",
    "find_emails_2('Hello from csev@umich.edu to cwen@iupui.edu about the meeting @2PM')\n",
    "find_emails_2(header_string)"
   ]
  },
  {
   "cell_type": "code",
   "execution_count": null,
   "metadata": {
    "collapsed": true
   },
   "outputs": [],
   "source": [
    "test_string_1 = '...<a href=\"http://mccombs.utexas.edu\">McCombs</a>...'\n",
    "test_string_2 = '...<a href=\"https://gmail.com\">Gmail</a>...'"
   ]
  },
  {
   "cell_type": "code",
   "execution_count": 15,
   "metadata": {
    "collapsed": false
   },
   "outputs": [
    {
     "name": "stdout",
     "output_type": "stream",
     "text": [
      "['<a href=\"http://mccombs.utexas.edu\">']\n",
      "['<a href=\"https://gmail.com\">']\n"
     ]
    }
   ],
   "source": [
    "def find_URLs(a_string):\n",
    "    print re.findall('<a href=\"https?://[^\"]+\">', a_string)\n",
    "\n",
    "find_URLs(test_string_1)\n",
    "find_URLs(test_string_2)"
   ]
  },
  {
   "cell_type": "code",
   "execution_count": 17,
   "metadata": {
    "collapsed": false
   },
   "outputs": [
    {
     "name": "stdout",
     "output_type": "stream",
     "text": [
      "['http://mccombs.utexas.edu']\n",
      "['https://gmail.com']\n"
     ]
    }
   ],
   "source": [
    "def find_URLs_2(a_string):\n",
    "    #we can put parentheses around the part we want as the result\n",
    "    print re.findall('<a href=\"(https?://[^\"]+)\">', a_string)\n",
    "\n",
    "find_URLs_2(test_string_1)\n",
    "find_URLs_2(test_string_2)"
   ]
  },
  {
   "cell_type": "code",
   "execution_count": null,
   "metadata": {
    "collapsed": true
   },
   "outputs": [],
   "source": []
  }
 ],
 "metadata": {
  "kernelspec": {
   "display_name": "Python 2",
   "language": "python",
   "name": "python2"
  },
  "language_info": {
   "codemirror_mode": {
    "name": "ipython",
    "version": 2
   },
   "file_extension": ".py",
   "mimetype": "text/x-python",
   "name": "python",
   "nbconvert_exporter": "python",
   "pygments_lexer": "ipython2",
   "version": "2.7.11"
  }
 },
 "nbformat": 4,
 "nbformat_minor": 2
}
