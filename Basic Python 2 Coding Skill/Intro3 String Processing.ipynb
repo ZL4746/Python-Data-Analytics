{
 "cells": [
  {
   "cell_type": "markdown",
   "metadata": {
    "deletable": true,
    "editable": true,
    "slideshow": {
     "slide_type": "slide"
    }
   },
   "source": [
    "# Introductory Python 3"
   ]
  },
  {
   "cell_type": "markdown",
   "metadata": {
    "deletable": true,
    "editable": true,
    "slideshow": {
     "slide_type": "slide"
    }
   },
   "source": [
    "\n",
    "We have already met the basic data structures that Python offers:\n",
    "\n",
    "* lists,\n",
    "* tuples, and\n",
    "* dictionaries.\n",
    "\n",
    "A lot of data science involves munging data obtained from various sources, such as the web or Excel CSV files. These are typically not in the format we need for the analysis, so we must process these strings and extract the useful information. This into will concentrate on different aspects of this problem.\n",
    "\n",
    "* string processing\n",
    "* Input/Output\n",
    "* regular expressions"
   ]
  },
  {
   "cell_type": "markdown",
   "metadata": {
    "deletable": true,
    "editable": true,
    "slideshow": {
     "slide_type": "slide"
    }
   },
   "source": [
    "## Strings\n",
    "\n",
    "\n",
    "As we've seen earlier, strings share many of the attributes of lists."
   ]
  },
  {
   "cell_type": "code",
   "execution_count": 1,
   "metadata": {
    "collapsed": false,
    "deletable": true,
    "editable": true,
    "scrolled": true
   },
   "outputs": [
    {
     "name": "stdout",
     "output_type": "stream",
     "text": [
      "a\n"
     ]
    }
   ],
   "source": [
    "fruit = 'banana'\n",
    "print fruit[1]"
   ]
  },
  {
   "cell_type": "markdown",
   "metadata": {
    "deletable": true,
    "editable": true,
    "slideshow": {
     "slide_type": "fragment"
    }
   },
   "source": [
    "The expression fruit[1] treats fruit as a list, with the character at index 1 being picked out (recall that list indices start at 0). Similarly, the _len_ function works with strings too."
   ]
  },
  {
   "cell_type": "code",
   "execution_count": 2,
   "metadata": {
    "collapsed": false,
    "deletable": true,
    "editable": true,
    "scrolled": true,
    "slideshow": {
     "slide_type": "fragment"
    }
   },
   "outputs": [
    {
     "data": {
      "text/plain": [
       "6"
      ]
     },
     "execution_count": 2,
     "metadata": {},
     "output_type": "execute_result"
    }
   ],
   "source": [
    "len(fruit)"
   ]
  },
  {
   "cell_type": "code",
   "execution_count": 3,
   "metadata": {
    "collapsed": false,
    "deletable": true,
    "editable": true,
    "scrolled": true,
    "slideshow": {
     "slide_type": "slide"
    }
   },
   "outputs": [
    {
     "name": "stdout",
     "output_type": "stream",
     "text": [
      "b\n",
      "a\n",
      "n\n",
      "a\n",
      "n\n",
      "a\n"
     ]
    }
   ],
   "source": [
    "# Ditto with loops\n",
    "for char in fruit:\n",
    "    print char"
   ]
  },
  {
   "cell_type": "code",
   "execution_count": 4,
   "metadata": {
    "collapsed": false,
    "deletable": true,
    "editable": true,
    "scrolled": true
   },
   "outputs": [
    {
     "data": {
      "text/plain": [
       "'an'"
      ]
     },
     "execution_count": 4,
     "metadata": {},
     "output_type": "execute_result"
    }
   ],
   "source": [
    "# and slices\n",
    "fruit[1:3] # recall that this selects items from index 1 up to, but not including, index 3"
   ]
  },
  {
   "cell_type": "markdown",
   "metadata": {
    "deletable": true,
    "editable": true,
    "slideshow": {
     "slide_type": "fragment"
    }
   },
   "source": [
    "<br />\n",
    "However, the **difference from lists** is that a string cannot be modified."
   ]
  },
  {
   "cell_type": "code",
   "execution_count": 5,
   "metadata": {
    "collapsed": false,
    "deletable": true,
    "editable": true,
    "scrolled": true,
    "slideshow": {
     "slide_type": "fragment"
    }
   },
   "outputs": [],
   "source": [
    "# fruit[2] = 'X'  # Not allowed!"
   ]
  },
  {
   "cell_type": "markdown",
   "metadata": {
    "deletable": true,
    "editable": true,
    "slideshow": {
     "slide_type": "slide"
    }
   },
   "source": [
    "_Example:_\n",
    "\n",
    "Suppose I want to write the following function: take a string, and a list of indices, and return a string with those indices blanked out.\n",
    "\n",
    ">    blank\\_out('abcdef', [1,3,5]) should return 'a\\_c\\_e\\_'\n",
    "\n",
    "How do we do this?"
   ]
  },
  {
   "cell_type": "code",
   "execution_count": 6,
   "metadata": {
    "collapsed": false,
    "deletable": true,
    "editable": true,
    "scrolled": true,
    "slideshow": {
     "slide_type": "fragment"
    }
   },
   "outputs": [
    {
     "name": "stdout",
     "output_type": "stream",
     "text": [
      "a_c_e_\n"
     ]
    }
   ],
   "source": [
    "def blank_out(orig_string, indices):\n",
    "    # Assemble blanked out string character by character\n",
    "    blanked_out_string = ''  # empty string\n",
    "    \n",
    "    for index, char in enumerate(orig_string):\n",
    "        if index in indices:\n",
    "            blanked_out_string += '_'   # recall: x += y is shorthand for x = x+y\n",
    "        else:\n",
    "            blanked_out_string += char\n",
    "            \n",
    "    return blanked_out_string\n",
    "\n",
    "print blank_out('abcdef', [1, 3, 5])       "
   ]
  },
  {
   "cell_type": "markdown",
   "metadata": {
    "deletable": true,
    "editable": true,
    "slideshow": {
     "slide_type": "slide"
    }
   },
   "source": [
    "Another option is to:\n",
    "\n",
    "1. convert orig\\_string, which cannot be modified, into a list, which _can_ be modified,\n",
    "2. modify the list at the given indices, and finally,\n",
    "3. convert the list back into a string."
   ]
  },
  {
   "cell_type": "code",
   "execution_count": 7,
   "metadata": {
    "collapsed": false,
    "deletable": true,
    "editable": true,
    "scrolled": true,
    "slideshow": {
     "slide_type": "fragment"
    }
   },
   "outputs": [
    {
     "name": "stdout",
     "output_type": "stream",
     "text": [
      "A_C_E_\n"
     ]
    }
   ],
   "source": [
    "def blank_out_2(orig_string, indices):\n",
    "    orig_list = list(orig_string)  # this converts the string into a list\n",
    "    \n",
    "    for index in indices:\n",
    "        orig_list[index] = '_'  # change the list\n",
    "        \n",
    "    blanked_out_string = ''.join(orig_list) # join convert list into string\n",
    "    return blanked_out_string\n",
    "\n",
    "print blank_out_2('ABCDEF', [1, 3, 5])"
   ]
  },
  {
   "cell_type": "markdown",
   "metadata": {
    "deletable": true,
    "editable": true,
    "slideshow": {
     "slide_type": "fragment"
    }
   },
   "source": [
    "We used the _join_ method, which concatenates a list of items using a delimiter. \n",
    "\n",
    "    delimiter_string.join([item1, item2, item3, ...])\n",
    "\n",
    "Here, we called _join_ on the empty string '' since we didn't want any extra stuff between the character list."
   ]
  },
  {
   "cell_type": "markdown",
   "metadata": {
    "deletable": true,
    "editable": true,
    "slideshow": {
     "slide_type": "slide"
    }
   },
   "source": [
    "Alongside _join()_, we will need three common string manipulation functions:"
   ]
  },
  {
   "cell_type": "markdown",
   "metadata": {
    "deletable": true,
    "editable": true
   },
   "source": [
    "> _string.lstrip(char)_\n",
    "\n",
    "This strips away character char, if present, from the beginning of the string"
   ]
  },
  {
   "cell_type": "code",
   "execution_count": 8,
   "metadata": {
    "collapsed": false,
    "deletable": true,
    "editable": true,
    "scrolled": true
   },
   "outputs": [
    {
     "data": {
      "text/plain": [
       "' Car Insurance'"
      ]
     },
     "execution_count": 8,
     "metadata": {},
     "output_type": "execute_result"
    }
   ],
   "source": [
    "'AAA Car Insurance'.lstrip('A')"
   ]
  },
  {
   "cell_type": "code",
   "execution_count": 9,
   "metadata": {
    "collapsed": false,
    "deletable": true,
    "editable": true,
    "scrolled": true
   },
   "outputs": [
    {
     "data": {
      "text/plain": [
       "'AAA Car Insurance'"
      ]
     },
     "execution_count": 9,
     "metadata": {},
     "output_type": "execute_result"
    }
   ],
   "source": [
    "'AAA Car Insurance'.lstrip('B')"
   ]
  },
  {
   "cell_type": "markdown",
   "metadata": {
    "deletable": true,
    "editable": true,
    "slideshow": {
     "slide_type": "slide"
    }
   },
   "source": [
    ">  _string.rstrip(char)_\n",
    "\n",
    "Same as lstrip but from the end of the string (lstrip for left, rstrip for right)"
   ]
  },
  {
   "cell_type": "code",
   "execution_count": 10,
   "metadata": {
    "collapsed": false,
    "deletable": true,
    "editable": true,
    "scrolled": true
   },
   "outputs": [
    {
     "data": {
      "text/plain": [
       "'AAA Car Insuranc'"
      ]
     },
     "execution_count": 10,
     "metadata": {},
     "output_type": "execute_result"
    }
   ],
   "source": [
    "'AAA Car Insurance'.rstrip('e')"
   ]
  },
  {
   "cell_type": "code",
   "execution_count": 11,
   "metadata": {
    "collapsed": false,
    "deletable": true,
    "editable": true,
    "scrolled": true
   },
   "outputs": [
    {
     "data": {
      "text/plain": [
       "'AAA Car Insurance'"
      ]
     },
     "execution_count": 11,
     "metadata": {},
     "output_type": "execute_result"
    }
   ],
   "source": [
    "'AAA Car Insurance'.rstrip('E')"
   ]
  },
  {
   "cell_type": "markdown",
   "metadata": {
    "deletable": true,
    "editable": true,
    "slideshow": {
     "slide_type": "slide"
    }
   },
   "source": [
    "> _string.split(string2)_\n",
    "\n",
    "This breaks up a string into pieces separated by string2"
   ]
  },
  {
   "cell_type": "code",
   "execution_count": 12,
   "metadata": {
    "collapsed": false,
    "deletable": true,
    "editable": true,
    "scrolled": true
   },
   "outputs": [
    {
     "data": {
      "text/plain": [
       "['A told B', 'and B told C', \"I'll race you to the top\", 'of the coconut tree']"
      ]
     },
     "execution_count": 12,
     "metadata": {},
     "output_type": "execute_result"
    }
   ],
   "source": [
    "\"A told B, and B told C, I'll race you to the top, of the coconut tree\".split(', ')"
   ]
  },
  {
   "cell_type": "code",
   "execution_count": 13,
   "metadata": {
    "collapsed": false,
    "deletable": true,
    "editable": true,
    "scrolled": true
   },
   "outputs": [
    {
     "data": {
      "text/plain": [
       "['A',\n",
       " 'told',\n",
       " 'B,',\n",
       " 'and',\n",
       " 'B',\n",
       " 'told',\n",
       " 'C,',\n",
       " \"I'll\",\n",
       " 'race',\n",
       " 'you',\n",
       " 'to',\n",
       " 'the',\n",
       " 'top,',\n",
       " 'of',\n",
       " 'the',\n",
       " 'coconut',\n",
       " 'tree']"
      ]
     },
     "execution_count": 13,
     "metadata": {},
     "output_type": "execute_result"
    }
   ],
   "source": [
    "\"A told B, and B told C, I'll race you to the top, of the coconut tree\".split(' ')"
   ]
  },
  {
   "cell_type": "markdown",
   "metadata": {
    "deletable": true,
    "editable": true,
    "slideshow": {
     "slide_type": "slide"
    }
   },
   "source": [
    "_Example:_\n",
    "\n",
    "Let's do another common use-case: parsing a string. Suppose we are given the string '{12.4, 3.4, 4, 36}' and we want to extract all the numbers into a list of floating point numbers.\n",
    "\n",
    "How do we do it?\n",
    "\n",
    "(As an aside, when dealing with Excel CSV files, we need something very similar)."
   ]
  },
  {
   "cell_type": "code",
   "execution_count": 14,
   "metadata": {
    "collapsed": false,
    "deletable": true,
    "editable": true,
    "scrolled": true,
    "slideshow": {
     "slide_type": "slide"
    }
   },
   "outputs": [
    {
     "name": "stdout",
     "output_type": "stream",
     "text": [
      "vec after stripping beginning and end: 12.4, 3.4, 4, 36\n",
      "nums = ['12.4', '3.4', '4', '36']\n",
      "floating point list is [12.4, 3.4, 4.0, 36.0]\n"
     ]
    }
   ],
   "source": [
    "orig_string = '{12.4, 3.4, 4, 36}'\n",
    "\n",
    "# First step: make a copy of this string; we will operate on the copy\n",
    "vec = orig_string\n",
    "\n",
    "# First step: remove the { and }\n",
    "# Use lstrip(), which strips away matching characters from the beginning of the string\n",
    "vec = vec.lstrip('{') # Store the resulting string in vec again\n",
    "vec = vec.rstrip('}')\n",
    "print 'vec after stripping beginning and end:', vec\n",
    "\n",
    "# Now we need to split the string by the ', ' delimiter\n",
    "nums = vec.split(', ')  # Note: don't forget the space in ', '\n",
    "print 'nums =', nums\n",
    "\n",
    "# nums is a list of strings, but we need a list of floating point numbers\n",
    "float_nums = [float(x) for x in nums]    # list-comprehension\n",
    "print 'floating point list is', float_nums"
   ]
  },
  {
   "cell_type": "markdown",
   "metadata": {
    "deletable": true,
    "editable": true,
    "slideshow": {
     "slide_type": "slide"
    }
   },
   "source": [
    "## Formatting and printing\n",
    "\n",
    "We have want to combine several variables to form one string."
   ]
  },
  {
   "cell_type": "code",
   "execution_count": 16,
   "metadata": {
    "collapsed": true,
    "deletable": true,
    "editable": true,
    "scrolled": true
   },
   "outputs": [],
   "source": [
    "name = 'Zhihao Li'\n",
    "ID = 123"
   ]
  },
  {
   "cell_type": "markdown",
   "metadata": {
    "deletable": true,
    "editable": true
   },
   "source": [
    "Suppose I want to combine them into a string: \n",
    "    \n",
    "    \"Welcome Citizen Zhihao ID 123\""
   ]
  },
  {
   "cell_type": "code",
   "execution_count": 17,
   "metadata": {
    "collapsed": true,
    "deletable": true,
    "editable": true,
    "slideshow": {
     "slide_type": "fragment"
    }
   },
   "outputs": [],
   "source": [
    "### won't work since ID is integer!\n",
    "# greeting = 'Welcome Citizen ' + name + ' ID ' + ID  "
   ]
  },
  {
   "cell_type": "markdown",
   "metadata": {
    "deletable": true,
    "editable": true,
    "slideshow": {
     "slide_type": "slide"
    }
   },
   "source": [
    "The _format_ function allows us to create a string from a _template_."
   ]
  },
  {
   "cell_type": "code",
   "execution_count": 18,
   "metadata": {
    "collapsed": false,
    "deletable": true,
    "editable": true,
    "scrolled": true
   },
   "outputs": [
    {
     "name": "stdout",
     "output_type": "stream",
     "text": [
      "Welcome Citizen Zhihao Li ID 123\n"
     ]
    }
   ],
   "source": [
    "# The {} spaces are filled in successively by the parameters of the format function.\n",
    "greeting = 'Welcome Citizen {} ID {}'.format(name, ID)\n",
    "print greeting"
   ]
  },
  {
   "cell_type": "code",
   "execution_count": 20,
   "metadata": {
    "collapsed": false,
    "deletable": true,
    "editable": true,
    "scrolled": true,
    "slideshow": {
     "slide_type": "fragment"
    }
   },
   "outputs": [
    {
     "name": "stdout",
     "output_type": "stream",
     "text": [
      "Zhihao! Hey Zhihao! Can you hear me, Zhihao?\n"
     ]
    }
   ],
   "source": [
    "# The same parameter can be used repeatedly in the template\n",
    "greeting = '{name}! Hey {name}! Can you hear me, {name}?'.format(name='Zhihao')\n",
    "print greeting"
   ]
  },
  {
   "cell_type": "markdown",
   "metadata": {
    "deletable": true,
    "editable": true,
    "slideshow": {
     "slide_type": "slide"
    }
   },
   "source": [
    "## Summary of strings\n",
    "\n",
    "* Strings mostly act like lists\n",
    "    * Get a list of its characters by list(\"string\")\n",
    "* **split()** a string into a list, or **join()** a list into a string\n",
    "* **lstrip()** and **rstrip()** to remove beginning and trailing characters\n",
    "* Many more string functions: run help()"
   ]
  },
  {
   "cell_type": "markdown",
   "metadata": {
    "deletable": true,
    "editable": true,
    "slideshow": {
     "slide_type": "slide"
    }
   },
   "source": [
    "## Input/Output\n",
    "\n",
    "We will often have to deal with reading input from files, and writing results out to files. The approach is simple:\n",
    "\n",
    "1. Open the file, specifying whether you want to read, write, or append\n",
    "2. Do what you want with it\n",
    "3. Close the file\n",
    "\n",
    "Let's do this with an Excel CSV file."
   ]
  },
  {
   "cell_type": "code",
   "execution_count": 21,
   "metadata": {
    "collapsed": false,
    "deletable": true,
    "editable": true,
    "scrolled": true,
    "slideshow": {
     "slide_type": "fragment"
    }
   },
   "outputs": [
    {
     "name": "stdout",
     "output_type": "stream",
     "text": [
      "Part name,Number of units,Price per unit,Total price\r",
      "\r\n",
      "Wheels,4,500,2000\r",
      "\r\n",
      "Doors,4,200,800\r",
      "\r\n",
      "Windows,4,100,400\r",
      "\r\n",
      "Engine,1,2000,2000\r",
      "\r\n",
      "Body,1,5000,5000\r",
      "\r\n"
     ]
    }
   ],
   "source": [
    "# A super-simple car\n",
    "!cat Intro3_data_file/CarParts.csv"
   ]
  },
  {
   "cell_type": "markdown",
   "metadata": {
    "deletable": true,
    "editable": true,
    "slideshow": {
     "slide_type": "slide"
    }
   },
   "source": [
    "Three types of operations\n",
    "\n",
    "* Open the file\n",
    "* Read in one line at a time\n",
    "* Close the file"
   ]
  },
  {
   "cell_type": "code",
   "execution_count": 23,
   "metadata": {
    "collapsed": false,
    "deletable": true,
    "editable": true,
    "scrolled": true,
    "slideshow": {
     "slide_type": "fragment"
    }
   },
   "outputs": [],
   "source": [
    "# Opening the file\n",
    "fp = open('Intro3_data_file/CarParts.csv', 'r')"
   ]
  },
  {
   "cell_type": "markdown",
   "metadata": {
    "deletable": true,
    "editable": true,
    "slideshow": {
     "slide_type": "fragment"
    }
   },
   "source": [
    "* fp stands for \"file pointer\". Once the file has been opened, all our interactions with that file (e.g., reading line by line) will go through this file pointer. \n",
    "* The 'r' stands for 'read'; Python will not allow us to write to this file pointer."
   ]
  },
  {
   "cell_type": "code",
   "execution_count": 24,
   "metadata": {
    "collapsed": false,
    "deletable": true,
    "editable": true,
    "scrolled": true,
    "slideshow": {
     "slide_type": "fragment"
    }
   },
   "outputs": [
    {
     "name": "stdout",
     "output_type": "stream",
     "text": [
      "Part name,Number of units,Price per unit,Total price\r\n",
      "\n"
     ]
    }
   ],
   "source": [
    "first_line = fp.readline()  # Reads in one line\n",
    "print first_line"
   ]
  },
  {
   "cell_type": "markdown",
   "metadata": {
    "deletable": true,
    "editable": true,
    "slideshow": {
     "slide_type": "fragment"
    }
   },
   "source": [
    "Let's say we want to load all the parts information, compute the total cost, and write out the total cost to another file.\n",
    "\n",
    "How do we do this?"
   ]
  },
  {
   "cell_type": "markdown",
   "metadata": {
    "deletable": true,
    "editable": true,
    "slideshow": {
     "slide_type": "slide"
    }
   },
   "source": [
    "* Read in one line at a time\n",
    "* Split it into its parts\n",
    "* Keep a running total over part prices\n",
    "* At the end, close the file and report the results."
   ]
  },
  {
   "cell_type": "code",
   "execution_count": 25,
   "metadata": {
    "collapsed": false,
    "deletable": true,
    "editable": true,
    "scrolled": true,
    "slideshow": {
     "slide_type": "slide"
    }
   },
   "outputs": [
    {
     "name": "stdout",
     "output_type": "stream",
     "text": [
      "After adding Wheels running total = 2000\n",
      "After adding Doors running total = 2800\n",
      "After adding Windows running total = 3200\n",
      "After adding Engine running total = 5200\n",
      "After adding Body running total = 10200\n"
     ]
    },
    {
     "ename": "ValueError",
     "evalue": "need more than 1 value to unpack",
     "output_type": "error",
     "traceback": [
      "\u001b[0;31m\u001b[0m",
      "\u001b[0;31mValueError\u001b[0mTraceback (most recent call last)",
      "\u001b[0;32m<ipython-input-25-3299a4888771>\u001b[0m in \u001b[0;36m<module>\u001b[0;34m()\u001b[0m\n\u001b[1;32m      9\u001b[0m \u001b[0;34m\u001b[0m\u001b[0m\n\u001b[1;32m     10\u001b[0m     \u001b[0;31m# split it into parts, to get the total price\u001b[0m\u001b[0;34m\u001b[0m\u001b[0;34m\u001b[0m\u001b[0m\n\u001b[0;32m---> 11\u001b[0;31m     \u001b[0mpart_name\u001b[0m\u001b[0;34m,\u001b[0m \u001b[0mnum_units\u001b[0m\u001b[0;34m,\u001b[0m \u001b[0mprice_per_unit\u001b[0m\u001b[0;34m,\u001b[0m \u001b[0mtotal_price_of_part\u001b[0m \u001b[0;34m=\u001b[0m \u001b[0mline\u001b[0m\u001b[0;34m.\u001b[0m\u001b[0msplit\u001b[0m\u001b[0;34m(\u001b[0m\u001b[0;34m','\u001b[0m\u001b[0;34m)\u001b[0m\u001b[0;34m\u001b[0m\u001b[0m\n\u001b[0m\u001b[1;32m     12\u001b[0m \u001b[0;34m\u001b[0m\u001b[0m\n\u001b[1;32m     13\u001b[0m     \u001b[0;31m# add this part's price to the total price of the car\u001b[0m\u001b[0;34m\u001b[0m\u001b[0;34m\u001b[0m\u001b[0m\n",
      "\u001b[0;31mValueError\u001b[0m: need more than 1 value to unpack"
     ]
    }
   ],
   "source": [
    "# Let us iterate over the lines.\n",
    "# readline() will return the empty string when the end of file is reached.\n",
    "price_of_car = 0\n",
    "\n",
    "line = fp.readline()\n",
    "while line is not '':\n",
    "    # the line can have some trailing characters, like 'newline'\n",
    "    line = line.rstrip()\n",
    "    \n",
    "    # split it into parts, to get the total price\n",
    "    part_name, num_units, price_per_unit, total_price_of_part = line.split(',')\n",
    "    \n",
    "    # add this part's price to the total price of the car\n",
    "    # remember: everything we get from the split() is a string.\n",
    "    price_of_car += int(total_price_of_part)\n",
    "    \n",
    "    # print a running total\n",
    "    print 'After adding', part_name, 'running total =', price_of_car\n",
    "    \n",
    "    # read in a new line\n",
    "    line = fp.readline()\n",
    "\n",
    "print 'Total price of car =', price_of_car\n",
    "    "
   ]
  },
  {
   "cell_type": "code",
   "execution_count": 26,
   "metadata": {
    "collapsed": false,
    "deletable": true,
    "editable": true,
    "scrolled": true
   },
   "outputs": [],
   "source": [
    "# Finally, close the file pointer\n",
    "fp.close()"
   ]
  },
  {
   "cell_type": "markdown",
   "metadata": {
    "deletable": true,
    "editable": true,
    "slideshow": {
     "slide_type": "slide"
    }
   },
   "source": [
    "Reading all lines in a file can also be done in a *for loop*."
   ]
  },
  {
   "cell_type": "code",
   "execution_count": 27,
   "metadata": {
    "collapsed": false,
    "deletable": true,
    "editable": true,
    "scrolled": true
   },
   "outputs": [
    {
     "name": "stdout",
     "output_type": "stream",
     "text": [
      "Total price of car = 10200\n"
     ]
    }
   ],
   "source": [
    "price_of_car = 0\n",
    "\n",
    "fp = open('Intro3_data_file/CarParts.csv', 'r')\n",
    "line = fp.readline()  # Ignore first line (the \"header\" line)\n",
    "\n",
    "for line in fp:  # <--- Iterate over lines from a file\n",
    "    line = line.rstrip()\n",
    "    part_name, num_units, price_per_unit, total_price_of_part = line.split(',')\n",
    "    price_of_car += int(total_price_of_part)\n",
    "\n",
    "fp.close()\n",
    "print 'Total price of car =', price_of_car"
   ]
  },
  {
   "cell_type": "markdown",
   "metadata": {
    "deletable": true,
    "editable": true,
    "slideshow": {
     "slide_type": "slide"
    }
   },
   "source": [
    "<br />\n",
    "Now lets write out this total price to a CSV file. Again, open a file pointer, write it to file using this file pointer, and close the file pointer."
   ]
  },
  {
   "cell_type": "code",
   "execution_count": 28,
   "metadata": {
    "collapsed": false,
    "deletable": true,
    "editable": true,
    "scrolled": true
   },
   "outputs": [],
   "source": [
    "# Open file for writing\n",
    "fp = open('Result.csv', 'w')  # the 'w' option says we want to write to file\n",
    "\n",
    "# Write out the header for the CSV\n",
    "print >>fp, 'Type of purchase,Price'\n",
    "\n",
    "# Write out the values for Car\n",
    "# price_of_car is a number, which must be converted to a string before writing.\n",
    "print >>fp, 'Car,{}'.format(price_of_car)\n",
    "\n",
    "# Close the file pointer\n",
    "fp.close()"
   ]
  },
  {
   "cell_type": "code",
   "execution_count": 29,
   "metadata": {
    "collapsed": false,
    "deletable": true,
    "editable": true,
    "scrolled": true
   },
   "outputs": [
    {
     "name": "stdout",
     "output_type": "stream",
     "text": [
      "Type of purchase,Price\r\n",
      "Car,10200\r\n"
     ]
    }
   ],
   "source": [
    "# Check the results\n",
    "!cat Result.csv"
   ]
  },
  {
   "cell_type": "markdown",
   "metadata": {
    "deletable": true,
    "editable": true,
    "slideshow": {
     "slide_type": "slide"
    }
   },
   "source": [
    "## Regular expressions\n",
    "\n",
    "Often, the string we must deal with are far uglier. Regular expressions help find complex patterns in strings. Let's see some examples."
   ]
  },
  {
   "cell_type": "code",
   "execution_count": 40,
   "metadata": {
    "collapsed": false,
    "deletable": true,
    "editable": true,
    "scrolled": true,
    "slideshow": {
     "slide_type": "slide"
    }
   },
   "outputs": [],
   "source": [
    "import re  # This is the regular expressions module. We must import this first."
   ]
  },
  {
   "cell_type": "code",
   "execution_count": 41,
   "metadata": {
    "collapsed": false,
    "deletable": true,
    "editable": true,
    "scrolled": true
   },
   "outputs": [
    {
     "name": "stdout",
     "output_type": "stream",
     "text": [
      "We have the following string list:  ['no numbers', 'That costs $2,000!', 'Beverly Hills 90210']\n",
      "And we will use re.refindal to find string that contains numbers\n",
      "Result: \n",
      "\n",
      "    No matches in the string \"no numbers\"\n",
      "\n",
      "    The matches in the string \"That costs $2,000!\" are: ['2', '0', '0', '0']\n",
      "\n",
      "    The matches in the string \"Beverly Hills 90210\" are: ['9', '0', '2', '1', '0']\n",
      "\n"
     ]
    }
   ],
   "source": [
    "string_list = ['no numbers', 'That costs $2,000!', 'Beverly Hills 90210']\n",
    "\n",
    "print \"We have the following string list: \", string_list\n",
    "print \"And we will use re.refindal to find string that contains numbers\"\n",
    "print \"Result: \"\n",
    "print\n",
    "\n",
    "# Find strings that contain numbers\n",
    "for a_string in string_list:\n",
    "    \n",
    "    matches = re.findall('[0-9]', a_string)\n",
    "    \n",
    "    if len(matches) > 0:\n",
    "        print '    The matches in the string \"'+ a_string + '\" are:', matches\n",
    "        print\n",
    "        \n",
    "    else:\n",
    "        print '    No matches in the string \"' + a_string + '\"'\n",
    "        print"
   ]
  },
  {
   "cell_type": "markdown",
   "metadata": {},
   "source": [
    "##### The basic approach to regular expressions is that you give\n",
    "\n",
    "* a searcher (here, _re.findall()_)\n",
    "* a pattern (here, _'[0-9]'_)\n",
    "* and a string in which to search (here, _one_string_).\n",
    "\n",
    "##### In this case:\n",
    "\n",
    "* The pattern _'[0-9]'_ means: any character between '0' and '9', i.e., any one of '0', '1', '2', ..., '9'\n",
    "* The searcher _re.findall()_ tries to find all match of the pattern to the string (_one\\_string_). \n",
    "\n",
    "### The re module has many other specialized searchers.\n",
    "\n",
    "\n",
    "##### Let's look a bit more at some commonly used patterns.\n",
    "\n",
    "> **[...]**\n",
    "* means match any character within the square brackets\n",
    "\n",
    "> **[^...]** \n",
    "* means match anything _except_ the characters within the brackets\n",
    "\n",
    "> **[abcd]**\n",
    "* means match any **one** of 'a', 'b', 'c', or 'd'\n",
    "\n",
    "> **[a-z]**\n",
    "* means match anything lower-case character\n",
    "\n",
    "> **[a-zA-Z]**\n",
    "* means match any lower-case or upper-case character\n",
    "\n",
    "> **[0-9]**\n",
    "* means any number\n",
    "\n",
    "\n",
    "> **.**  **(the \"full stop\" sign)**\n",
    "* means match any one character, whatever it is (this is called a _wild card_)\n",
    "\n",
    "> **\\\\.**\n",
    "* means match the full-stop character\n",
    "\n",
    "> **There are several useful shorthands as well:**\n",
    "* **\\\\w** is shorthand for [a-zA-Z0-9\\_]\n",
    "* **\\\\d** is shorthand for [0-9]\n",
    "* **\\\\s** is shorthand for a space or a tab, often used as delimiter\n",
    "\n",
    "\n"
   ]
  },
  {
   "cell_type": "markdown",
   "metadata": {
    "deletable": true,
    "editable": true,
    "slideshow": {
     "slide_type": "slide"
    }
   },
   "source": [
    "_Example (Find phone numbers):_ \n",
    "\n",
    "Let's try to find phone numbers in text. We will only consider the forms\n",
    "\n",
    "    123.456.7890\n",
    "\n",
    "or\n",
    "\n",
    "    123-456-7890\n",
    "\n",
    "and we will assume there is a space/tab both before and after the number."
   ]
  },
  {
   "cell_type": "code",
   "execution_count": 42,
   "metadata": {
    "collapsed": false,
    "deletable": true,
    "editable": true,
    "scrolled": true,
    "slideshow": {
     "slide_type": "fragment"
    }
   },
   "outputs": [
    {
     "name": "stdout",
     "output_type": "stream",
     "text": [
      "[' 512-232-1234 ', ' 888.291.2135 ']\n"
     ]
    }
   ],
   "source": [
    "def find_phone_number(a_string):\n",
    "    \"\"\"Given a string, find a phone number in it. Consider only two forms: 123.456.7890 or 123-456-7890\"\"\"\n",
    "    print re.findall('\\s\\d\\d\\d[\\.-]\\d\\d\\d[\\.-]\\d\\d\\d\\d\\s', a_string)\n",
    "    \n",
    "find_phone_number(' Call me at 512-232-1234 or 888.291.2135 ASAP')"
   ]
  },
  {
   "cell_type": "markdown",
   "metadata": {
    "deletable": true,
    "editable": true,
    "slideshow": {
     "slide_type": "slide"
    }
   },
   "source": [
    "_Example (Find Twitter handles):_\n",
    "\n",
    "Let's say we want to detect twitter handles. These will start with the '@' character, followed by a combination of letters, numbers, and the underscore \\_.\n",
    "\n",
    "    @BarackObama\n",
    "    @taylorswift13\n",
    "    @Harry_Styles"
   ]
  },
  {
   "cell_type": "markdown",
   "metadata": {
    "deletable": true,
    "editable": true,
    "slideshow": {
     "slide_type": "fragment"
    }
   },
   "source": [
    "We have one problem: we don't know how many characters there will be after the '@' sign. For this, we need to understand pattern _repetitions_.\n",
    "\n",
    "* **\\\\w** matches one English character\n",
    "* **\\\\w?** matches at most one English character (e.g., 'https?' matches both 'http' and 'https')\n",
    "* **\\\\w\\*** matches zero or more English characters (e.g., both '' and 'Henry')\n",
    "* **\\\\w+** matches one or more English characters (e.g., 'Henry', but not '')"
   ]
  },
  {
   "cell_type": "code",
   "execution_count": 46,
   "metadata": {
    "collapsed": true
   },
   "outputs": [],
   "source": [
    "blatantly_false_string = \"\"\"\n",
    "I'm gonna have the MOST followers! More tha @BarackObama, bigger\n",
    "that @katyperry, gonna top @taylorswift13, snuff out @Harry_Styles,\n",
    "and all you punks out there! That's right, contact me at \n",
    "bigdaddy@utexas.edu while I set up my account.\n",
    "\"\"\""
   ]
  },
  {
   "cell_type": "code",
   "execution_count": 47,
   "metadata": {
    "collapsed": false,
    "deletable": true,
    "editable": true,
    "scrolled": true,
    "slideshow": {
     "slide_type": "slide"
    }
   },
   "outputs": [
    {
     "name": "stdout",
     "output_type": "stream",
     "text": [
      "['@BarackObama', '@katyperry', '@taylorswift13', '@Harry_Styles', '@utexas']\n"
     ]
    }
   ],
   "source": [
    "def find_twitter_handles(a_string):\n",
    "    \n",
    "    ### use of the \"+\" sign to repeat the character ###\n",
    "    print re.findall('@[a-zA-Z0-9_]+', a_string)\n",
    "    \n",
    "    \n",
    "    \n",
    "###Test\n",
    "find_twitter_handles(blatantly_false_string)"
   ]
  },
  {
   "cell_type": "markdown",
   "metadata": {
    "deletable": true,
    "editable": true,
    "slideshow": {
     "slide_type": "fragment"
    }
   },
   "source": [
    "Worked, apart from the piece of the email address '@utexas' showing up. Let's add the requirement that real Twitter handles in text will have a space before them."
   ]
  },
  {
   "cell_type": "code",
   "execution_count": 44,
   "metadata": {
    "collapsed": false,
    "deletable": true,
    "editable": true,
    "scrolled": true,
    "slideshow": {
     "slide_type": "fragment"
    }
   },
   "outputs": [
    {
     "name": "stdout",
     "output_type": "stream",
     "text": [
      "[' @BarackObama', ' @katyperry', ' @taylorswift13', ' @Harry_Styles']\n"
     ]
    }
   ],
   "source": [
    "def find_twitter_handles_2(a_string):\n",
    "    print re.findall('\\s@[a-zA-Z0-9_]+', a_string)\n",
    "\n",
    "find_twitter_handles_2(blatantly_false_string)"
   ]
  },
  {
   "cell_type": "markdown",
   "metadata": {
    "deletable": true,
    "editable": true,
    "slideshow": {
     "slide_type": "slide"
    }
   },
   "source": [
    "_Example (Find email addresses):_\n",
    "\n",
    "We will search for email addresses like deepay@utexas.edu. How?"
   ]
  },
  {
   "cell_type": "markdown",
   "metadata": {
    "deletable": true,
    "editable": true,
    "slideshow": {
     "slide_type": "fragment"
    }
   },
   "source": [
    "First cut:\n",
    "\n",
    "1. some characters (not @ or space),\n",
    "2. followed by @,\n",
    "3. followed by some more characters (not @ or space)."
   ]
  },
  {
   "cell_type": "code",
   "execution_count": 49,
   "metadata": {
    "collapsed": false,
    "deletable": true,
    "editable": true,
    "scrolled": true,
    "slideshow": {
     "slide_type": "slide"
    }
   },
   "outputs": [
    {
     "name": "stdout",
     "output_type": "stream",
     "text": [
      "['csev@umich.edu', 'cwen@iupui.edu']\n"
     ]
    }
   ],
   "source": [
    "def find_emails(a_string):\n",
    "    # [^@\\s]+ anything except @ and space\n",
    "    # \\s refer to space\n",
    "    \n",
    "    print re.findall('[^@\\s]+@[^@\\s]+', a_string)\n",
    "\n",
    "find_emails('Hello from csev@umich.edu to cwen@iupui.edu about the meeting @2PM')"
   ]
  },
  {
   "cell_type": "code",
   "execution_count": 48,
   "metadata": {
    "collapsed": false,
    "deletable": true,
    "editable": true,
    "scrolled": true,
    "slideshow": {
     "slide_type": "fragment"
    }
   },
   "outputs": [
    {
     "name": "stdout",
     "output_type": "stream",
     "text": [
      "['stephen.marquard@uct.ac.za', '<postmaster@collab.sakaiproject.org>', '<source@collab.sakaiproject.org>;', 'apache@localhost)', 'stephen.marquard@uct.ac.za']\n"
     ]
    }
   ],
   "source": [
    "# More complicated setup: extract emails from email headers.\n",
    "header_string = \"\"\"\n",
    "From stephen.marquard@uct.ac.za Sat Jan  5 09:14:16 2008\n",
    "Return-Path: <postmaster@collab.sakaiproject.org>\n",
    "          for <source@collab.sakaiproject.org>;\n",
    "Received: (from apache@localhost)\n",
    "Author: stephen.marquard@uct.ac.za\n",
    "\"\"\"\n",
    "\n",
    "find_emails(header_string)"
   ]
  },
  {
   "cell_type": "markdown",
   "metadata": {
    "deletable": true,
    "editable": true,
    "slideshow": {
     "slide_type": "fragment"
    }
   },
   "source": [
    "Some of the extracted emails have '<' and ')'. Let's add the requirement that\n",
    "\n",
    "* the email address must contain only [a-z] or [A-Z] or '.', and \n",
    "* it must start and end with [a-z] or [A-Z]."
   ]
  },
  {
   "cell_type": "code",
   "execution_count": 53,
   "metadata": {
    "collapsed": false,
    "deletable": true,
    "editable": true,
    "scrolled": true,
    "slideshow": {
     "slide_type": "slide"
    }
   },
   "outputs": [
    {
     "name": "stdout",
     "output_type": "stream",
     "text": [
      "['csev@umich.edu', 'cwen@iupui.edu']\n",
      "['stephen.marquard@uct.ac.za', 'postmaster@collab.sakaiproject.org', 'source@collab.sakaiproject.org', 'apache@localhost', 'stephen.marquard@uct.ac.za']\n"
     ]
    }
   ],
   "source": [
    "def find_emails_2(a_string):\n",
    "    \n",
    "    ### \"*\" represent 0 or more character\n",
    "    print re.findall('[a-zA-Z][a-zA-Z\\.]*@[a-zA-Z\\.]*[a-zA-Z]', a_string)\n",
    "    \n",
    "find_emails_2('Hello from csev@umich.edu to cwen@iupui.edu about the meeting @2PM')\n",
    "find_emails_2(header_string)"
   ]
  },
  {
   "cell_type": "markdown",
   "metadata": {
    "deletable": true,
    "editable": true,
    "slideshow": {
     "slide_type": "slide"
    }
   },
   "source": [
    "_Example (detect URLs):_\n",
    "\n",
    "Let us try to detect URLs within webpages. Webpages are often written in HTML, and will encode URLs within a special _tag_, in the following format:\n",
    "\n",
    "    ...<a href=\"http://mccombs.utexas.edu\">McCombs</a>...\n",
    "    ...<a href=\"https://gmail.com\">Gmail</a>...\n",
    "\n",
    "Here, the pattern is:\n",
    "\n",
    "    <a href=\"http://...\"> or\n",
    "    <a href=\"https://...\">"
   ]
  },
  {
   "cell_type": "code",
   "execution_count": 54,
   "metadata": {
    "collapsed": true,
    "slideshow": {
     "slide_type": "slide"
    }
   },
   "outputs": [],
   "source": [
    "#Testing String\n",
    "\n",
    "test_string_1 = '...<a href=\"http://mccombs.utexas.edu\">McCombs</a>...'\n",
    "test_string_2 = '...<a href=\"https://gmail.com\">Gmail</a>...'\n"
   ]
  },
  {
   "cell_type": "code",
   "execution_count": 55,
   "metadata": {
    "collapsed": false,
    "deletable": true,
    "editable": true,
    "scrolled": true,
    "slideshow": {
     "slide_type": "slide"
    }
   },
   "outputs": [
    {
     "name": "stdout",
     "output_type": "stream",
     "text": [
      "['<a href=\"http://mccombs.utexas.edu\">']\n",
      "['<a href=\"https://gmail.com\">']\n"
     ]
    }
   ],
   "source": [
    "def find_URLs(a_string):\n",
    "    print re.findall('<a href=\"https?://[^\"]+\">', a_string)\n",
    "\n",
    "find_URLs(test_string_1)\n",
    "find_URLs(test_string_2)"
   ]
  },
  {
   "cell_type": "markdown",
   "metadata": {
    "deletable": true,
    "editable": true,
    "slideshow": {
     "slide_type": "fragment"
    }
   },
   "source": [
    "That's nice, except we didn't really want the 'a href' part in the output, though we need it to be part of the pattern."
   ]
  },
  {
   "cell_type": "markdown",
   "metadata": {
    "deletable": true,
    "editable": true,
    "slideshow": {
     "slide_type": "fragment"
    }
   },
   "source": [
    "To fix this, we can put parentheses around the part we want as the result."
   ]
  },
  {
   "cell_type": "code",
   "execution_count": 56,
   "metadata": {
    "collapsed": false,
    "deletable": true,
    "editable": true,
    "scrolled": true,
    "slideshow": {
     "slide_type": "slide"
    }
   },
   "outputs": [
    {
     "name": "stdout",
     "output_type": "stream",
     "text": [
      "['http://mccombs.utexas.edu']\n",
      "['https://gmail.com']\n"
     ]
    }
   ],
   "source": [
    "def find_URLs_2(a_string):\n",
    "    #we can put parentheses around the part we want as the result\n",
    "    print re.findall('<a href=\"(https?://[^\"]+)\">', a_string)\n",
    "\n",
    "find_URLs_2(test_string_1)\n",
    "find_URLs_2(test_string_2)"
   ]
  }
 ],
 "metadata": {
  "anaconda-cloud": {},
  "celltoolbar": "Slideshow",
  "kernelspec": {
   "display_name": "Python 2",
   "language": "python",
   "name": "python2"
  },
  "language_info": {
   "codemirror_mode": {
    "name": "ipython",
    "version": 2
   },
   "file_extension": ".py",
   "mimetype": "text/x-python",
   "name": "python",
   "nbconvert_exporter": "python",
   "pygments_lexer": "ipython2",
   "version": "2.7.11"
  }
 },
 "nbformat": 4,
 "nbformat_minor": 0
}
